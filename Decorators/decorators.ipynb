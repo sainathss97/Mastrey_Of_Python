{
 "cells": [
  {
   "cell_type": "markdown",
   "metadata": {},
   "source": [
    "## 3. Decorators\n",
    "`@classmethod`"
   ]
  },
  {
   "cell_type": "code",
   "execution_count": 7,
   "metadata": {},
   "outputs": [
    {
     "name": "stdout",
     "output_type": "stream",
     "text": [
      "<function hello at 0x000001C81AA3BEB0>\n",
      "hello\n",
      "None\n",
      "hello\n",
      "None\n",
      "hello\n",
      "None\n",
      "None\n"
     ]
    }
   ],
   "source": [
    "# how functions can be used as variables\n",
    "\n",
    "def hello():\n",
    "    print(\"hello\") \n",
    "# function hello is created at a memory\n",
    "\n",
    "greet = hello # shows the memory of function as greet variable also points to it\n",
    "print(greet)    \n",
    "print(greet()) # calling through variable\n",
    "\n",
    "greetings = hello()\n",
    "print(greetings) # normal function call\n",
    " \n",
    "del hello # deleting memory of hello function\n",
    "print(greet()) # as itis pointing on line 7 we can call it and it will work\n",
    "print(greetings) #  refrence got deleted\n",
    "# print(hello()) # throws errors\n"
   ]
  },
  {
   "cell_type": "code",
   "execution_count": 10,
   "metadata": {},
   "outputs": [
    {
     "name": "stdout",
     "output_type": "stream",
     "text": [
      "hello\n",
      "Hello from the otherside\n"
     ]
    }
   ],
   "source": [
    "# how functions can be passed as variables\n",
    "\n",
    "def hello(fun=None):\n",
    "    print(\"hello\")\n",
    "    fun() \n",
    "# function hello is created at a memory\n",
    "def otherside():\n",
    "    print(\"Hello from the otherside\")\n",
    "\n",
    "hello(otherside)    "
   ]
  },
  {
   "cell_type": "markdown",
   "metadata": {},
   "source": [
    "**📝Note:** Please check the order of execution on how first `otherside()` is called it is because of `()` which changes the order"
   ]
  },
  {
   "cell_type": "code",
   "execution_count": 16,
   "metadata": {},
   "outputs": [
    {
     "name": "stdout",
     "output_type": "stream",
     "text": [
      "Hello from the otherside\n",
      "hello\n"
     ]
    }
   ],
   "source": [
    "def hello(fun=None):\n",
    "    print(\"hello\")\n",
    "    return fun\n",
    "# function hello is created at a memory\n",
    "def otherside():\n",
    "    print(\"Hello from the otherside\")\n",
    "\n",
    "hello(otherside())  "
   ]
  },
  {
   "cell_type": "markdown",
   "metadata": {},
   "source": [
    "## Higher Order Functions\n",
    "Higher Order Functions (HOC) are the functions that can either take a functionas a parameter or return a function \n",
    "map,reduce,filter are high order functions"
   ]
  },
  {
   "cell_type": "code",
   "execution_count": 17,
   "metadata": {},
   "outputs": [
    {
     "name": "stdout",
     "output_type": "stream",
     "text": [
      "hello\n",
      "Hello from the otherside\n"
     ]
    }
   ],
   "source": [
    "def hello(fun=None): # higher order function\n",
    "    print(\"hello\")\n",
    "    return fun()\n",
    "# function hello is created at a memory\n",
    "def otherside():\n",
    "    print(\"Hello from the otherside\")\n",
    "\n",
    "hello(otherside)  "
   ]
  },
  {
   "cell_type": "code",
   "execution_count": 20,
   "metadata": {},
   "outputs": [
    {
     "data": {
      "text/plain": [
       "\"I'm here\""
      ]
     },
     "execution_count": 20,
     "metadata": {},
     "output_type": "execute_result"
    }
   ],
   "source": [
    "def greet_2():\n",
    "    def hello_there():\n",
    "        return f\"I'm here\"\n",
    "    return hello_there()\n",
    "greet_2()"
   ]
  },
  {
   "cell_type": "markdown",
   "metadata": {},
   "source": [
    "## Decorator-2  \n",
    "\n",
    "we can add extra functionality toa function with decroators\n"
   ]
  },
  {
   "cell_type": "code",
   "execution_count": 23,
   "metadata": {},
   "outputs": [
    {
     "name": "stdout",
     "output_type": "stream",
     "text": [
      "********************************************************************************************************************************************\n",
      "hello\n",
      "********************************************************************************************************************************************\n"
     ]
    }
   ],
   "source": [
    "def my_decorattor(func):\n",
    "    def wrap_my_fun():\n",
    "        print(\"*******\"*20)\n",
    "        func()\n",
    "        print(\"*******\"*20)\n",
    "    return wrap_my_fun\n",
    "\n",
    "\n",
    "@my_decorattor\n",
    "def hello():\n",
    "    print(\"hello\")\n",
    "\n",
    "hello()"
   ]
  },
  {
   "cell_type": "code",
   "execution_count": 34,
   "metadata": {},
   "outputs": [
    {
     "name": "stdout",
     "output_type": "stream",
     "text": [
      " ******* ******* ******* ******* ******* ******* ******* ******* ******* ******* ******* ******* ******* ******* ******* ******* ******* ******* ******* *******\n",
      "😎**********************************************************************Vola**********************************************************************😎\n",
      " ******* ******* ******* ******* ******* ******* ******* ******* ******* ******* ******* ******* ******* ******* ******* ******* ******* ******* ******* *******\n"
     ]
    }
   ],
   "source": [
    "def my_decorattor(func):\n",
    "    def wrap_my_fun(param1,param2):\n",
    "        print(\" *******\"*20)\n",
    "        func(param1,param2)\n",
    "        print(\" *******\"*20)\n",
    "    return wrap_my_fun\n",
    "\n",
    "\n",
    "@my_decorattor\n",
    "def hello(greeting,emoji):\n",
    "    print(f\"{emoji}{'*******'*10}{greeting}{'*******'*10}{emoji}\")\n",
    "\n",
    "hello(\"Vola\",'😎')"
   ]
  },
  {
   "cell_type": "code",
   "execution_count": 35,
   "metadata": {},
   "outputs": [
    {
     "name": "stdout",
     "output_type": "stream",
     "text": [
      " ******* ******* ******* ******* ******* ******* ******* ******* ******* ******* ******* ******* ******* ******* ******* ******* ******* ******* ******* *******\n",
      "😎**********************************************************************Vola**********************************************************************😎\n",
      " ******* ******* ******* ******* ******* ******* ******* ******* ******* ******* ******* ******* ******* ******* ******* ******* ******* ******* ******* *******\n"
     ]
    }
   ],
   "source": [
    "def my_decorattor(func):\n",
    "    def wrap_my_fun(*args):\n",
    "        print(\" *******\"*20)\n",
    "        func(*args)\n",
    "        print(\" *******\"*20)\n",
    "    return wrap_my_fun\n",
    "\n",
    "\n",
    "@my_decorattor\n",
    "def hello(greeting,emoji):\n",
    "    print(f\"{emoji}{'*******'*10}{greeting}{'*******'*10}{emoji}\")\n",
    "\n",
    "hello(\"Vola\",'😎')"
   ]
  },
  {
   "cell_type": "code",
   "execution_count": 41,
   "metadata": {},
   "outputs": [
    {
     "name": "stdout",
     "output_type": "stream",
     "text": [
      " ******* ******* ******* ******* ******* ******* ******* ******* ******* ******* ******* ******* ******* ******* ******* ******* ******* ******* ******* *******\n",
      "😎**********************************************************************Vola**********************************************************************😎\n",
      " ******* ******* ******* ******* ******* ******* ******* ******* ******* ******* ******* ******* ******* ******* ******* ******* ******* ******* ******* *******\n"
     ]
    }
   ],
   "source": [
    "def my_decorattor(func):\n",
    "    def wrap_my_fun(*args,**kwargs):\n",
    "        print(\" *******\"*20)\n",
    "        func(*args,**kwargs)\n",
    "        print(\" *******\"*20)\n",
    "    return wrap_my_fun\n",
    "\n",
    "\n",
    "@my_decorattor\n",
    "def hello(greeting,emoji,is_lazy=True):\n",
    "    if is_lazy:\n",
    "        print(f\"{emoji}{'*******'*10}{greeting}{'*******'*10}{emoji}\")\n",
    "    else:\n",
    "        print(\"Humph\")\n",
    "hello(\"Vola\",'😎')"
   ]
  },
  {
   "cell_type": "markdown",
   "metadata": {},
   "source": [
    "## How Decorators are usefull?\n",
    "\n"
   ]
  }
 ],
 "metadata": {
  "kernelspec": {
   "display_name": "Python 3.10.0 64-bit",
   "language": "python",
   "name": "python3"
  },
  "language_info": {
   "codemirror_mode": {
    "name": "ipython",
    "version": 3
   },
   "file_extension": ".py",
   "mimetype": "text/x-python",
   "name": "python",
   "nbconvert_exporter": "python",
   "pygments_lexer": "ipython3",
   "version": "3.10.0"
  },
  "orig_nbformat": 4,
  "vscode": {
   "interpreter": {
    "hash": "49da7d21e02589e2de7cea34dc87605a984fd6b75be6cf7d8639436c3840c983"
   }
  }
 },
 "nbformat": 4,
 "nbformat_minor": 2
}
