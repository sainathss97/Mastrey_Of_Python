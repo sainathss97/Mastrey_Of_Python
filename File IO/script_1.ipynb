{
 "cells": [
  {
   "cell_type": "markdown",
   "metadata": {},
   "source": [
    "# Modes and way to write them"
   ]
  },
  {
   "cell_type": "markdown",
   "metadata": {},
   "source": [
    "## Write, Read, append:\n",
    "mode ='r'\n",
    "mode ='r+' \n",
    "mode ='w' - creates even if file doesn't exsist\n",
    "mode ='a'"
   ]
  },
  {
   "cell_type": "code",
   "execution_count": 4,
   "metadata": {},
   "outputs": [
    {
     "name": "stdout",
     "output_type": "stream",
     "text": [
      "23\n",
      "['Hello there... Good to see you\\n', 'Hello there... Good to see you -1\\n', 'Hello there... Good to see you -2\\n', 'Hello there... Good to see you -3\\n', 'Hello there... Good to see you -4\\n', 'Hello there... Good to see you -5\\n', 'Hello there... Good to see you -6\\n', 'Hello from otherside!!\\n']\n"
     ]
    }
   ],
   "source": [
    "\n",
    "with open('test.txt', 'w') as my_file:\n",
    "    text = my_file.write('Hello from otherside!!\\n')\n",
    "    print(text)\n",
    "    print(my_file.readlines())\n"
   ]
  },
  {
   "cell_type": "code",
   "execution_count": 7,
   "metadata": {},
   "outputs": [
    {
     "name": "stdout",
     "output_type": "stream",
     "text": [
      "23\n"
     ]
    }
   ],
   "source": [
    "\n",
    "with open('test.txt', 'a') as my_file:\n",
    "    text = my_file.write('Hello from otherside!!\\n')\n",
    "    print(text)\n"
   ]
  },
  {
   "cell_type": "code",
   "execution_count": 9,
   "metadata": {},
   "outputs": [
    {
     "name": "stdout",
     "output_type": "stream",
     "text": [
      "['Hello from otherside!!\\n', 'ee you\\n', 'Hello there... Good to see you -1\\n', 'Hello there... Good to see you -2\\n', 'Hello there... Good to see you -3\\n', 'Hello there... Good to see you -4\\n', 'Hello there... Good to see you -5\\n', 'Hello there... Good to see you -6\\n', '\\n', 'Hello from otherside!!\\n']\n"
     ]
    }
   ],
   "source": [
    "with open('test.txt', 'r+') as my_file:\n",
    "    text = my_file.write('Hello from otherside!!\\n')\n",
    "    print(my_file.readlines())\n"
   ]
  },
  {
   "cell_type": "markdown",
   "metadata": {},
   "source": [
    "Relative Path- `files/test.txt`\n",
    "Absolute Path - `C:\\Study\\Python\\Python Advance Concepts\\File IO\\files\\test.txt`"
   ]
  },
  {
   "cell_type": "code",
   "execution_count": 16,
   "metadata": {},
   "outputs": [
    {
     "name": "stdout",
     "output_type": "stream",
     "text": [
      "['Hello from otherside!!\\n', 'ee you\\n', 'Hello there... Good to see you -1\\n', 'Hello there... Good to see you -2\\n', 'Hello there... Good to see you -3\\n', 'Hello there... Good to see you -4\\n', 'Hello there... Good to see you -5\\n', 'Hello there... Good to see you -6\\n', '\\n', 'Hello from otherside!!\\n', 'Hello from otherside!!\\n']\n"
     ]
    }
   ],
   "source": [
    "with open(r'files/test.txt', 'r') as my_file:\n",
    "    print(my_file.readlines())\n"
   ]
  },
  {
   "cell_type": "code",
   "execution_count": 17,
   "metadata": {},
   "outputs": [
    {
     "name": "stdout",
     "output_type": "stream",
     "text": [
      "['Hello from otherside!!\\n', 'ee you\\n', 'Hello there... Good to see you -1\\n', 'Hello there... Good to see you -2\\n', 'Hello there... Good to see you -3\\n', 'Hello there... Good to see you -4\\n', 'Hello there... Good to see you -5\\n', 'Hello there... Good to see you -6\\n', '\\n', 'Hello from otherside!!\\n', 'Hello from otherside!!\\n']\n"
     ]
    }
   ],
   "source": [
    "with open(r'C:/Study/Python/Python Advance Concepts/File IO/files/test.txt', 'r') as my_file:\n",
    "    print(my_file.readlines())"
   ]
  },
  {
   "cell_type": "markdown",
   "metadata": {},
   "source": [
    "## [PATHLIB](https://docs.python.org/3/library/pathlib.html)"
   ]
  },
  {
   "cell_type": "code",
   "execution_count": 20,
   "metadata": {},
   "outputs": [
    {
     "name": "stdout",
     "output_type": "stream",
     "text": [
      "['Hello from otherside!!\\n', 'ee you\\n', 'Hello there... Good to see you -1\\n', 'Hello there... Good to see you -2\\n', 'Hello there... Good to see you -3\\n', 'Hello there... Good to see you -4\\n', 'Hello there... Good to see you -5\\n', 'Hello there... Good to see you -6\\n', '\\n', 'Hello from otherside!!\\n', 'Hello from otherside!!\\n']\n"
     ]
    }
   ],
   "source": [
    "from pathlib import Path\n",
    "\n",
    "my_file_path = Path('C:/Study/Python/Python Advance Concepts/File IO/files/test.txt')\n",
    "\n",
    "with open(my_file_path, 'r') as my_file:\n",
    "    print(my_file.readlines())\n"
   ]
  }
 ],
 "metadata": {
  "kernelspec": {
   "display_name": "Python 3.10.0 64-bit",
   "language": "python",
   "name": "python3"
  },
  "language_info": {
   "codemirror_mode": {
    "name": "ipython",
    "version": 3
   },
   "file_extension": ".py",
   "mimetype": "text/x-python",
   "name": "python",
   "nbconvert_exporter": "python",
   "pygments_lexer": "ipython3",
   "version": "3.10.0"
  },
  "orig_nbformat": 4,
  "vscode": {
   "interpreter": {
    "hash": "49da7d21e02589e2de7cea34dc87605a984fd6b75be6cf7d8639436c3840c983"
   }
  }
 },
 "nbformat": 4,
 "nbformat_minor": 2
}
