{
 "cells": [
  {
   "cell_type": "markdown",
   "metadata": {},
   "source": [
    "# [Functional Programming](https://www.geeksforgeeks.org/functional-programming-paradigm/)\n"
   ]
  },
  {
   "cell_type": "markdown",
   "metadata": {},
   "source": [
    "## Pure Functions\n",
    "These are the functions that have no dependency with outside variables or attributes"
   ]
  },
  {
   "cell_type": "code",
   "execution_count": 112,
   "metadata": {},
   "outputs": [
    {
     "name": "stdout",
     "output_type": "stream",
     "text": [
      "[4, 16, 36, 64, 100, 144, 196, 256]\n"
     ]
    }
   ],
   "source": [
    "def power_of_2(li):\n",
    "    try:\n",
    "        new_list=[]\n",
    "        if li:\n",
    "            for element in li:\n",
    "                new_list.append(element**2)\n",
    "            return new_list\n",
    "    \n",
    "        else:\n",
    "            return f\"Passed List is empty\"\n",
    "    except [TypeError,ValueError]:\n",
    "        return f\"There is Some Error\"\n",
    "\n",
    "print(power_of_2([2,4,6,8,10,12,14,16]))"
   ]
  },
  {
   "cell_type": "markdown",
   "metadata": {},
   "source": [
    "**📝Note:**\n",
    "> The Pure Functions need to be seperated from Data and it is a good practise to seperate like this to avoid Bugs "
   ]
  },
  {
   "cell_type": "markdown",
   "metadata": {},
   "source": [
    "## `map(),filter(),zip(),reduce()`\n",
    "\n",
    "### map -  Make an iterator that computes the function using arguments from  each of the iterables.  Stops when the shortest iterable is exhausted.\n",
    "    `map(func, *iterables)`\n",
    "\n",
    "### filter -  Return an iterator yielding those items of iterable for which function(item) is true. If function is None, return the items that are true.\n",
    "    `filter(function or None, iterable)`\n",
    "\n",
    "### zip()- The zip object yields n-length tuples, where n is the number of iterables    \n",
    "    `zip(*iterables, strict=False)`\n",
    "\n",
    "### reduce() - \n",
    "        `reduce(function, iterable[, initial])`"
   ]
  },
  {
   "cell_type": "code",
   "execution_count": 113,
   "metadata": {},
   "outputs": [
    {
     "name": "stdout",
     "output_type": "stream",
     "text": [
      "Help on class map in module builtins:\n",
      "\n",
      "class map(object)\n",
      " |  map(func, *iterables) --> map object\n",
      " |  \n",
      " |  Make an iterator that computes the function using arguments from\n",
      " |  each of the iterables.  Stops when the shortest iterable is exhausted.\n",
      " |  \n",
      " |  Methods defined here:\n",
      " |  \n",
      " |  __getattribute__(self, name, /)\n",
      " |      Return getattr(self, name).\n",
      " |  \n",
      " |  __iter__(self, /)\n",
      " |      Implement iter(self).\n",
      " |  \n",
      " |  __next__(self, /)\n",
      " |      Implement next(self).\n",
      " |  \n",
      " |  __reduce__(...)\n",
      " |      Return state information for pickling.\n",
      " |  \n",
      " |  ----------------------------------------------------------------------\n",
      " |  Static methods defined here:\n",
      " |  \n",
      " |  __new__(*args, **kwargs) from builtins.type\n",
      " |      Create and return a new object.  See help(type) for accurate signature.\n",
      "\n"
     ]
    }
   ],
   "source": [
    "help(map)"
   ]
  },
  {
   "cell_type": "code",
   "execution_count": 114,
   "metadata": {},
   "outputs": [
    {
     "name": "stdout",
     "output_type": "stream",
     "text": [
      "[4, 8, 112]\n",
      "[2, 4, 56]\n"
     ]
    }
   ],
   "source": [
    "def multiply_by_2(item):\n",
    "    return item*2\n",
    "\n",
    "my_list= [2,4,56] # passedlist\n",
    "print(list(map(multiply_by_2,my_list)))\n",
    "print(my_list) # not affected can be called a Pure function"
   ]
  },
  {
   "cell_type": "code",
   "execution_count": 115,
   "metadata": {},
   "outputs": [
    {
     "name": "stdout",
     "output_type": "stream",
     "text": [
      "[6, 12, 168]\n",
      "[2, 4, 56]\n"
     ]
    }
   ],
   "source": [
    "def multiply_by_num(item,num):\n",
    "    return item*num\n",
    "\n",
    "my_list= [2,4,56] # passedlist\n",
    "my_list_1=[3,3,3]\n",
    "print(list(map(multiply_by_num,my_list,my_list_1)))\n",
    "print(my_list) # not affected can be called a Pure function"
   ]
  },
  {
   "cell_type": "code",
   "execution_count": 116,
   "metadata": {},
   "outputs": [
    {
     "name": "stdout",
     "output_type": "stream",
     "text": [
      "[4, 36, 150, 392, 990, 1716, 3570] 7\n"
     ]
    }
   ],
   "source": [
    "def Multiply(a,b,c):\n",
    "    return a*b*c\n",
    " \n",
    "# list 1\n",
    "lst1=[2,4,6,8,10,12,14,16,2] # len ->8\n",
    "  \n",
    "# list 2\n",
    "lst2=[1,3,5,7,9,11,15] # len-> 7\n",
    " \n",
    "#list 3\n",
    "lst3=[2,3,5,7,11,13,17]\n",
    " \n",
    " \n",
    "result=list(map(Multiply,lst1,lst2,lst3))\n",
    "print(result,len(result))\n"
   ]
  },
  {
   "cell_type": "code",
   "execution_count": 117,
   "metadata": {},
   "outputs": [
    {
     "name": "stdout",
     "output_type": "stream",
     "text": [
      "Help on class filter in module builtins:\n",
      "\n",
      "class filter(object)\n",
      " |  filter(function or None, iterable) --> filter object\n",
      " |  \n",
      " |  Return an iterator yielding those items of iterable for which function(item)\n",
      " |  is true. If function is None, return the items that are true.\n",
      " |  \n",
      " |  Methods defined here:\n",
      " |  \n",
      " |  __getattribute__(self, name, /)\n",
      " |      Return getattr(self, name).\n",
      " |  \n",
      " |  __iter__(self, /)\n",
      " |      Implement iter(self).\n",
      " |  \n",
      " |  __next__(self, /)\n",
      " |      Implement next(self).\n",
      " |  \n",
      " |  __reduce__(...)\n",
      " |      Return state information for pickling.\n",
      " |  \n",
      " |  ----------------------------------------------------------------------\n",
      " |  Static methods defined here:\n",
      " |  \n",
      " |  __new__(*args, **kwargs) from builtins.type\n",
      " |      Create and return a new object.  See help(type) for accurate signature.\n",
      "\n"
     ]
    }
   ],
   "source": [
    "help(filter)"
   ]
  },
  {
   "cell_type": "code",
   "execution_count": 118,
   "metadata": {},
   "outputs": [
    {
     "name": "stdout",
     "output_type": "stream",
     "text": [
      "[3, 73, 355, 855]\n"
     ]
    }
   ],
   "source": [
    "def only_odd(item):\n",
    "    return item % 2 !=0\n",
    "my_list=[3,73,355,855,80,56,40]\n",
    "\n",
    "print(list(filter(only_odd,my_list)))"
   ]
  },
  {
   "cell_type": "code",
   "execution_count": 119,
   "metadata": {},
   "outputs": [
    {
     "name": "stdout",
     "output_type": "stream",
     "text": [
      "Help on class zip in module builtins:\n",
      "\n",
      "class zip(object)\n",
      " |  zip(*iterables, strict=False) --> Yield tuples until an input is exhausted.\n",
      " |  \n",
      " |     >>> list(zip('abcdefg', range(3), range(4)))\n",
      " |     [('a', 0, 0), ('b', 1, 1), ('c', 2, 2)]\n",
      " |  \n",
      " |  The zip object yields n-length tuples, where n is the number of iterables\n",
      " |  passed as positional arguments to zip().  The i-th element in every tuple\n",
      " |  comes from the i-th iterable argument to zip().  This continues until the\n",
      " |  shortest argument is exhausted.\n",
      " |  \n",
      " |  If strict is true and one of the arguments is exhausted before the others,\n",
      " |  raise a ValueError.\n",
      " |  \n",
      " |  Methods defined here:\n",
      " |  \n",
      " |  __getattribute__(self, name, /)\n",
      " |      Return getattr(self, name).\n",
      " |  \n",
      " |  __iter__(self, /)\n",
      " |      Implement iter(self).\n",
      " |  \n",
      " |  __next__(self, /)\n",
      " |      Implement next(self).\n",
      " |  \n",
      " |  __reduce__(...)\n",
      " |      Return state information for pickling.\n",
      " |  \n",
      " |  __setstate__(...)\n",
      " |      Set state information for unpickling.\n",
      " |  \n",
      " |  ----------------------------------------------------------------------\n",
      " |  Static methods defined here:\n",
      " |  \n",
      " |  __new__(*args, **kwargs) from builtins.type\n",
      " |      Create and return a new object.  See help(type) for accurate signature.\n",
      "\n"
     ]
    }
   ],
   "source": [
    "help(zip)"
   ]
  },
  {
   "cell_type": "code",
   "execution_count": 120,
   "metadata": {},
   "outputs": [
    {
     "name": "stdout",
     "output_type": "stream",
     "text": [
      "[(1, 2), (2, 4), (3, 5), (4, 6), (5, 7)]\n"
     ]
    }
   ],
   "source": [
    "my_list=[1,2,3,4,5]\n",
    "my_list_1=[2,4,5,6,7]\n",
    "print(list(zip(my_list,my_list_1)))"
   ]
  },
  {
   "cell_type": "code",
   "execution_count": 121,
   "metadata": {},
   "outputs": [
    {
     "name": "stdout",
     "output_type": "stream",
     "text": [
      "[(1, 2), (2, 4), (3, 5), (4, 6), (5, 7)]\n"
     ]
    }
   ],
   "source": [
    "my_list=[1,2,3,4,5,6,7] #len-7\n",
    "my_list_1=[2,4,5,6,7]  #len-5\n",
    "print(list(zip(my_list,my_list_1))) # returns length of 5"
   ]
  },
  {
   "cell_type": "code",
   "execution_count": 122,
   "metadata": {},
   "outputs": [
    {
     "name": "stdout",
     "output_type": "stream",
     "text": [
      "[(1, 2), (2, 4), (3, 5), (4, 6), (5, 7)]\n"
     ]
    }
   ],
   "source": [
    "my_list=[1,2,3,4,5,6,7] #len-7\n",
    "my_list_1=(2,4,5,6,7)  #len-5\n",
    "print(list(zip(my_list,my_list_1))) # returns length of 5"
   ]
  },
  {
   "cell_type": "code",
   "execution_count": 123,
   "metadata": {},
   "outputs": [
    {
     "name": "stdout",
     "output_type": "stream",
     "text": [
      "[(1, 2, 7), (2, 4, 8), (3, 5, 9), (4, 6, 4), (5, 7, 5)]\n"
     ]
    }
   ],
   "source": [
    "my_list=[1,2,3,4,5,6,7] #len-7\n",
    "my_list_1=(2,4,5,6,7)  #len-5\n",
    "my_list_2 = [7,8,9,4,5]\n",
    "print(list(zip(my_list,my_list_1,my_list_2))) # returns length of 5"
   ]
  },
  {
   "cell_type": "code",
   "execution_count": 124,
   "metadata": {},
   "outputs": [
    {
     "name": "stdout",
     "output_type": "stream",
     "text": [
      "Help on built-in function reduce in module _functools:\n",
      "\n",
      "reduce(...)\n",
      "    reduce(function, iterable[, initial]) -> value\n",
      "    \n",
      "    Apply a function of two arguments cumulatively to the items of a sequence\n",
      "    or iterable, from left to right, so as to reduce the iterable to a single\n",
      "    value.  For example, reduce(lambda x, y: x+y, [1, 2, 3, 4, 5]) calculates\n",
      "    ((((1+2)+3)+4)+5).  If initial is present, it is placed before the items\n",
      "    of the iterable in the calculation, and serves as a default when the\n",
      "    iterable is empty.\n",
      "\n"
     ]
    }
   ],
   "source": [
    "from functools import reduce\n",
    "\n",
    "\n",
    "help(reduce)"
   ]
  },
  {
   "cell_type": "code",
   "execution_count": 125,
   "metadata": {},
   "outputs": [
    {
     "name": "stdout",
     "output_type": "stream",
     "text": [
      "10+2==>12\n",
      "12+4==>16\n",
      "16+5==>21\n",
      "21+6==>27\n",
      "27+8==>35\n",
      "35+10==>45\n"
     ]
    },
    {
     "data": {
      "text/plain": [
       "45"
      ]
     },
     "execution_count": 125,
     "metadata": {},
     "output_type": "execute_result"
    }
   ],
   "source": [
    "def accumlator(acc,item):\n",
    "    print(f\"{acc}+{item}==>{acc+item}\")\n",
    "    return acc+item\n",
    "my_list=[2,4,5,6,8,10]\n",
    "reduce(accumlator,my_list,10)    "
   ]
  },
  {
   "cell_type": "markdown",
   "metadata": {},
   "source": [
    "## Lambda Expressions are anonymous functions\n",
    "- to only use once\n",
    "- no name for the functions\n",
    "- memory is not comnsumed on the machine\n",
    "`lambda param: action(param)`\n",
    "action - is generally is a function"
   ]
  },
  {
   "cell_type": "code",
   "execution_count": 126,
   "metadata": {},
   "outputs": [
    {
     "name": "stdout",
     "output_type": "stream",
     "text": [
      "Lambdas\n",
      "*******\n",
      "\n",
      "   lambda_expr ::= \"lambda\" [parameter_list] \":\" expression\n",
      "\n",
      "Lambda expressions (sometimes called lambda forms) are used to create\n",
      "anonymous functions. The expression \"lambda parameters: expression\"\n",
      "yields a function object.  The unnamed object behaves like a function\n",
      "object defined with:\n",
      "\n",
      "   def <lambda>(parameters):\n",
      "       return expression\n",
      "\n",
      "See section Function definitions for the syntax of parameter lists.\n",
      "Note that functions created with lambda expressions cannot contain\n",
      "statements or annotations.\n",
      "\n",
      "Related help topics: FUNCTIONS\n",
      "\n"
     ]
    }
   ],
   "source": [
    "\n",
    "help('lambda')"
   ]
  },
  {
   "cell_type": "code",
   "execution_count": 127,
   "metadata": {},
   "outputs": [
    {
     "name": "stdout",
     "output_type": "stream",
     "text": [
      "30\n"
     ]
    }
   ],
   "source": [
    "x = lambda a, b : a * b\n",
    "print(x(5, 6))"
   ]
  },
  {
   "cell_type": "code",
   "execution_count": 128,
   "metadata": {},
   "outputs": [
    {
     "data": {
      "text/plain": [
       "[4, 16, 36, 64, 100, 144]"
      ]
     },
     "execution_count": 128,
     "metadata": {},
     "output_type": "execute_result"
    }
   ],
   "source": [
    "my_list= [2,4,6,8,10,12]\n",
    "\n",
    "\n",
    "list(map(lambda item: item**2,my_list))"
   ]
  },
  {
   "cell_type": "code",
   "execution_count": 129,
   "metadata": {},
   "outputs": [
    {
     "name": "stdout",
     "output_type": "stream",
     "text": [
      "22\n",
      "33\n"
     ]
    }
   ],
   "source": [
    "def myfunc(n):\n",
    "  return lambda a : a * n\n",
    "\n",
    "mydoubler = myfunc(2)\n",
    "mytripler = myfunc(3)\n",
    "\n",
    "print(mydoubler(11))\n",
    "print(mytripler(11))"
   ]
  },
  {
   "cell_type": "code",
   "execution_count": 130,
   "metadata": {},
   "outputs": [
    {
     "name": "stdout",
     "output_type": "stream",
     "text": [
      "[1, 8, 27, 64, 125]\n"
     ]
    }
   ],
   "source": [
    "nums1 = [1, 2, 3, 4, 5]\n",
    "sq = list(map(lambda a: a ** 3, nums1))\n",
    "\n",
    "print(sq)"
   ]
  },
  {
   "cell_type": "code",
   "execution_count": 131,
   "metadata": {},
   "outputs": [
    {
     "name": "stdout",
     "output_type": "stream",
     "text": [
      "[10, 65]\n"
     ]
    }
   ],
   "source": [
    "my_list = [10, 65, 54, 99, 102, 339]\n",
    "\n",
    "# use anonymous function\n",
    "res = list(filter(lambda x: (x % 5 == 0), my_list))\n",
    "\n",
    "print(res)"
   ]
  },
  {
   "cell_type": "code",
   "execution_count": 132,
   "metadata": {},
   "outputs": [
    {
     "name": "stdout",
     "output_type": "stream",
     "text": [
      "669\n"
     ]
    }
   ],
   "source": [
    "my_list = [10, 65, 54, 99, 102, 339]\n",
    "\n",
    "# use anonymous function\n",
    "res = reduce(lambda acc,x: acc+x, my_list)\n",
    "\n",
    "print(res)"
   ]
  },
  {
   "cell_type": "markdown",
   "metadata": {},
   "source": [
    "## List Comphrehension\n",
    "happens for following iterables such as List,Set,Dictionary\n",
    "`[param for param in iterable ]`"
   ]
  },
  {
   "cell_type": "code",
   "execution_count": 133,
   "metadata": {},
   "outputs": [
    {
     "name": "stdout",
     "output_type": "stream",
     "text": [
      "[4, 6, 7, 8, 9, 4, 5, 2]\n",
      "['H', 'e', 'l', 'l', 'o', ' ', 'T', 'h', 'e', 'r', 'e', ' ', 'A', 'g', 'a', 'i', 'n']\n"
     ]
    }
   ],
   "source": [
    "new_list=[4,6,7,8,9,4,5,2]\n",
    "new_str_list='Hello There Again'\n",
    "print([x for x in new_list])\n",
    "print([x for x in new_str_list])"
   ]
  },
  {
   "cell_type": "code",
   "execution_count": 134,
   "metadata": {},
   "outputs": [
    {
     "name": "stdout",
     "output_type": "stream",
     "text": [
      "[8, 12, 14, 16, 18, 8, 10, 4]\n",
      "['0b100', '0b110', '0b111', '0b1000', '0b1001', '0b100', '0b101', '0b10']\n",
      "['H', 'E', 'L', 'L', 'O', ' ', 'T', 'H', 'E', 'R', 'E', ' ', 'A', 'G', 'A', 'I', 'N']\n"
     ]
    }
   ],
   "source": [
    "new_list=[4,6,7,8,9,4,5,2]\n",
    "new_str_list='Hello There Again'\n",
    "print([x*2 for x in new_list])\n",
    "print([bin(x) for x in new_list])\n",
    "print([x.upper() for x in new_str_list])\n"
   ]
  },
  {
   "cell_type": "code",
   "execution_count": 135,
   "metadata": {},
   "outputs": [
    {
     "name": "stdout",
     "output_type": "stream",
     "text": [
      "[4, 16, 36, 64, 100, 144, 196, 256, 324, 400, 484, 576, 676, 784, 900, 1024, 1156, 1296, 1444, 1600, 1764, 1936, 2116, 2304, 2500, 2704, 2916, 3136, 3364, 3600, 3844, 4096, 4356, 4624, 4900, 5184, 5476, 5776, 6084, 6400, 6724, 7056, 7396, 7744, 8100, 8464, 8836, 9216, 9604, 10000]\n",
      "[1, 9, 25, 49, 81, 121, 169, 225, 289, 361, 441, 529, 625, 729, 841, 961, 1089, 1225, 1369, 1521, 1681, 1849, 2025, 2209, 2401, 2601, 2809, 3025, 3249, 3481, 3721, 3969, 4225, 4489, 4761, 5041, 5329, 5625, 5929, 6241, 6561, 6889, 7225, 7569, 7921, 8281, 8649, 9025, 9409, 9801]\n"
     ]
    }
   ],
   "source": [
    "# even squares with list comphrehension\n",
    "print([x**2 for x in range(1,101) if x%2==0])\n",
    "\n",
    "# odd squares with list comphrehension\n",
    "print([x**2 for x in range(1,101) if x%2!=0])\n"
   ]
  },
  {
   "cell_type": "markdown",
   "metadata": {},
   "source": [
    "## set and Dictionary Comphrehension"
   ]
  },
  {
   "cell_type": "code",
   "execution_count": 136,
   "metadata": {},
   "outputs": [
    {
     "name": "stdout",
     "output_type": "stream",
     "text": [
      "{4, 8, 10, 12, 14, 16, 18}\n",
      "['0b10', '0b100', '0b101', '0b110', '0b111', '0b1000', '0b1001']\n",
      "['H', 'E', 'L', 'L', 'O', ' ', 'T', 'H', 'E', 'R', 'E', ' ', 'A', 'G', 'A', 'I', 'N']\n"
     ]
    }
   ],
   "source": [
    "new_list={4,6,7,8,9,4,5,2}\n",
    "new_str_list='Hello There Again'\n",
    "print({x*2 for x in new_list})\n",
    "print([bin(x) for x in new_list])\n",
    "print([x.upper() for x in new_str_list])\n"
   ]
  },
  {
   "cell_type": "code",
   "execution_count": 137,
   "metadata": {},
   "outputs": [
    {
     "name": "stdout",
     "output_type": "stream",
     "text": [
      "{256, 1024, 2304, 4096, 4, 900, 1156, 3844, 4356, 6400, 8836, 9604, 10000, 16, 144, 400, 784, 1296, 1936, 2704, 3600, 4624, 5776, 9216, 36, 676, 1444, 3364, 4900, 8100, 7056, 7744, 64, 576, 1600, 3136, 196, 324, 2116, 2500, 5184, 6084, 6724, 8464, 100, 484, 1764, 2916, 5476, 7396}\n",
      "{1, 3969, 4225, 9, 3721, 4489, 5625, 529, 1681, 7569, 25, 3481, 4761, 289, 2209, 6561, 169, 2601, 5929, 49, 3249, 5041, 2809, 441, 1849, 7225, 961, 1089, 9025, 9409, 841, 1225, 8649, 9801, 81, 3025, 5329, 1369, 729, 8281, 225, 2401, 6241, 361, 2025, 6889, 625, 1521, 7921, 121}\n"
     ]
    }
   ],
   "source": [
    "# even squares with list comphrehension\n",
    "print({x**2 for x in range(1,101) if x%2==0})\n",
    "\n",
    "# odd squares with list comphrehension\n",
    "print({x**2 for x in range(1,101) if x%2!=0})\n"
   ]
  },
  {
   "cell_type": "code",
   "execution_count": 138,
   "metadata": {},
   "outputs": [
    {
     "data": {
      "text/plain": [
       "{'a': 1, 'b': 32, 'c': 243, 'd': 1024}"
      ]
     },
     "execution_count": 138,
     "metadata": {},
     "output_type": "execute_result"
    }
   ],
   "source": [
    "# Dictionary Comphrehension\n",
    "my_dict = {'a':1,'b':2,'c':3,'d':4}\n",
    "\n",
    "{key: value**5 for key,value in my_dict.items()}"
   ]
  },
  {
   "cell_type": "code",
   "execution_count": 139,
   "metadata": {},
   "outputs": [
    {
     "data": {
      "text/plain": [
       "{'b': 32, 'd': 1024}"
      ]
     },
     "execution_count": 139,
     "metadata": {},
     "output_type": "execute_result"
    }
   ],
   "source": [
    "# Dictionary Comphrehension\n",
    "my_dict = {'a':1,'b':2,'c':3,'d':4}\n",
    "\n",
    "{key: value**5 for key,value in my_dict.items()  if value%2==0}"
   ]
  },
  {
   "cell_type": "code",
   "execution_count": 140,
   "metadata": {},
   "outputs": [
    {
     "data": {
      "text/plain": [
       "{1: 1, 2: 32, 3: 243, 4: 1024, 5: 3125, 6: 7776}"
      ]
     },
     "execution_count": 140,
     "metadata": {},
     "output_type": "execute_result"
    }
   ],
   "source": [
    "\n",
    "{value: value**5 for value in [1,2,3,4,5,6]}"
   ]
  }
 ],
 "metadata": {
  "kernelspec": {
   "display_name": "Python 3.10.0 64-bit",
   "language": "python",
   "name": "python3"
  },
  "language_info": {
   "codemirror_mode": {
    "name": "ipython",
    "version": 3
   },
   "file_extension": ".py",
   "mimetype": "text/x-python",
   "name": "python",
   "nbconvert_exporter": "python",
   "pygments_lexer": "ipython3",
   "version": "3.10.0"
  },
  "orig_nbformat": 4,
  "vscode": {
   "interpreter": {
    "hash": "49da7d21e02589e2de7cea34dc87605a984fd6b75be6cf7d8639436c3840c983"
   }
  }
 },
 "nbformat": 4,
 "nbformat_minor": 2
}
