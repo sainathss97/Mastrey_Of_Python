{
 "cells": [
  {
   "cell_type": "markdown",
   "metadata": {},
   "source": [
    "# 1. OOPS\n",
    "\n",
    "1. Everything in python is a object\n",
    "2. Objects have methods and variables to access them\n",
    "3. we can create a new class and a custom object for it"
   ]
  },
  {
   "cell_type": "code",
   "execution_count": 36,
   "metadata": {},
   "outputs": [
    {
     "name": "stdout",
     "output_type": "stream",
     "text": [
      "<class 'NoneType'>\n",
      "<class 'bool'>\n",
      "<class 'int'>\n",
      "<class 'float'>\n",
      "<class 'str'>\n",
      "<class 'list'>\n",
      "<class 'tuple'>\n",
      "<class 'dict'>\n",
      "<class 'set'>\n",
      "<class 'str'>\n",
      "<class 'type'>\n",
      "<class '__main__.BigObject'>\n"
     ]
    }
   ],
   "source": [
    "## Datatypes as Objects\n",
    "print(type(None))\n",
    "print(type(True))\n",
    "print(type(5))\n",
    "print(type(5.6))\n",
    "print(type('hi'))\n",
    "print(type([]))\n",
    "print(type(()))\n",
    "print(type({}))\n",
    "print(type(set()))\n",
    "#______________________________________________________#\n",
    "print(type('hi'.upper()))\n",
    "#________________________________________________________#\n",
    "class BigObject:    # Camel Case Not Snake case\n",
    "    #print(\"I dont do anything\")\n",
    "    \n",
    "    pass\n",
    "\n",
    "obj1 = BigObject() # instanciate\n",
    "\n",
    "print(type(BigObject)) # by default all custom classes are from Type\n",
    "print(type(obj1)) # Object of BigObject\n"
   ]
  },
  {
   "cell_type": "markdown",
   "metadata": {},
   "source": [
    "## Classes and Objects"
   ]
  },
  {
   "cell_type": "code",
   "execution_count": 37,
   "metadata": {},
   "outputs": [
    {
     "name": "stdout",
     "output_type": "stream",
     "text": [
      "<__main__.PlayerCharacter object at 0x0000026361CEBE20>\n",
      "run\n",
      "Silver\n",
      "None\n",
      "<__main__.PlayerCharacter object at 0x0000026361CEBCD0>\n",
      "Tom\n",
      "44\n"
     ]
    }
   ],
   "source": [
    "class PlayerCharacter:\n",
    "    \n",
    "    def __init__(self,name,age): # Dunder Method or Constructor  expecting 2 parameters\n",
    "        self.name = name\n",
    "        self.age= age #default\n",
    "    \n",
    "    # self -> refer to current object  \n",
    "    # self.name -> Attributr refrence to that object\n",
    "\n",
    "    def run(self):\n",
    "        print(\"run\")\n",
    "\n",
    "player_1 = PlayerCharacter('Silver',age=None) # give name as argument to intialize it. \n",
    "\n",
    "print(player_1) # Stored as object @ some memory location\n",
    "player_1.run() # method calling / initializing\n",
    "print(player_1.name) # calling initialized variable\n",
    "print(player_1.age) # calling initialized variable\n",
    "\n",
    "\n",
    "\n",
    "player_2 = PlayerCharacter('Tom',age=44)\n",
    "print(player_2)  # Stored as object @ some memory location\n",
    "print(player_2.name)\n",
    "print(player_2.age) # calling initialized variable\n"
   ]
  },
  {
   "cell_type": "markdown",
   "metadata": {},
   "source": [
    "\n",
    ">📝 *Note:* we can create diifrent players/ objects of the class with diffrent attributes you can also include heigth, weight, etc seperating them from each other"
   ]
  },
  {
   "cell_type": "code",
   "execution_count": 38,
   "metadata": {},
   "outputs": [
    {
     "name": "stdout",
     "output_type": "stream",
     "text": [
      "<__main__.PlayerCharacter object at 0x0000026361CE9090>\n",
      "My name is Silver\n",
      "Silver\n",
      "None\n",
      "True\n",
      "<__main__.PlayerCharacter object at 0x0000026361CEBE20>\n",
      "Tom\n",
      "44\n",
      "True\n"
     ]
    }
   ],
   "source": [
    "class PlayerCharacter:\n",
    "    is_member  =True # Class Object Attribute - should be always static \n",
    "    def __init__(self,name,age): # Dunder Method or Constructor  expecting 2 parameters\n",
    "        #if self.is_member:\n",
    "        if PlayerCharacter.is_member:\n",
    "            self.name = name # Attribute\n",
    "            self.age= age #Dynamic\n",
    "    \n",
    "    # self -> refer to current object  \n",
    "    # self.name -> Attributr refrence to that object\n",
    "\n",
    "    def shout(self):\n",
    "        print(f\"My name is {self.name}\")\n",
    "\n",
    "player_1 = PlayerCharacter('Silver',age=None) # give name as argument to intialize it. \n",
    "\n",
    "print(player_1) # Stored as object @ some memory location\n",
    "player_1.shout() # method calling / initializing\n",
    "print(player_1.name) # calling initialized variable\n",
    "print(player_1.age) # calling initialized variable\n",
    "print(player_1.is_member) # calling initialized variable\n",
    "\n",
    "\n",
    "\n",
    "player_2 = PlayerCharacter('Tom',age=44)\n",
    "print(player_2)  # Stored as object @ some memory location\n",
    "print(player_2.name)\n",
    "print(player_2.age) # calling initialized variable\n",
    "print(player_2.is_member) # calling initialized variable\n"
   ]
  },
  {
   "cell_type": "markdown",
   "metadata": {},
   "source": [
    "> **📝Note:** \n",
    "1. The Class Object Attribute remains same for multiple objects untl they are allowed to change. The Attributes that are defined in the class will change with respective to the objects i.e, each obj can have a diffrent value. \n",
    "\n",
    "2. Attributes needs to use `self` keyword where Class Object Attribute can be accessed by both `ClassName` or by `self`  keyword also."
   ]
  },
  {
   "cell_type": "markdown",
   "metadata": {},
   "source": [
    "## `__ init__()` -  A Constructor can tbe used to play around and will be quite useful while checking few auto conditions\n",
    "\n",
    "1. Unless intialized don't use self this would lead to an error \n",
    "2. use `__init__()` default parameters to avoid error "
   ]
  },
  {
   "cell_type": "code",
   "execution_count": 39,
   "metadata": {},
   "outputs": [
    {
     "name": "stdout",
     "output_type": "stream",
     "text": [
      "<__main__.PlayerCharacter object at 0x0000026361D55B10>\n",
      "My name is Master. Silver\n",
      "Master. Silver\n",
      "15\n",
      "True\n",
      "<__main__.PlayerCharacter object at 0x0000026361D57640>\n",
      "Mr. Tom\n",
      "44\n",
      "True\n",
      "<__main__.PlayerCharacter object at 0x000002635EDDEAA0>\n",
      "Master. Anonymous\n",
      "15\n",
      "True\n",
      "50\n"
     ]
    }
   ],
   "source": [
    "class PlayerCharacter:\n",
    "    is_member  =True # Class Object Attribute - should be always static \n",
    "    def __init__(self,name='Anonymous',age=0): # Defaul variables if values are not passed\n",
    "        #if self.is_member:\n",
    "        if age > 16: # checking if passed age is greater than 20\n",
    "            self.name = 'Mr. '+name # Attribute\n",
    "            self.age= age #Getting Intialized\n",
    "        else:\n",
    "            self.age= 15 \n",
    "            self.name = 'Master. '+name\n",
    "    # self -> refer to current object  \n",
    "    # self.name -> Attributr refrence to that object\n",
    "\n",
    "    def shout(self):\n",
    "        print(f\"My name is {self.name}\")\n",
    "\n",
    "player_1 = PlayerCharacter('Silver',age=12) # give name as argument to intialize it. \n",
    "\n",
    "print(player_1) # Stored as object @ some memory location\n",
    "player_1.shout() # method calling / initializing\n",
    "print(player_1.name) # calling initialized variable\n",
    "print(player_1.age) # calling initialized variable\n",
    "print(player_1.is_member) # calling initialized variable\n",
    "\n",
    "\n",
    "\n",
    "player_2 = PlayerCharacter('Tom',age=44)\n",
    "print(player_2)  # Stored as object @ some memory location\n",
    "print(player_2.name)\n",
    "print(player_2.age) # calling initialized variable\n",
    "print(player_2.is_member) # calling initialized variable\n",
    "\n",
    "\n",
    "player_3 = PlayerCharacter()\n",
    "print(player_3)  # Stored as object @ some memory location\n",
    "print(player_3.name)\n",
    "print(player_3.age) # calling initialized variable\n",
    "print(player_3.is_member) # calling initialized variable\n",
    "player_3.attack =50 # will take even if not defined\n",
    "print(player_3.attack)"
   ]
  },
  {
   "cell_type": "markdown",
   "metadata": {},
   "source": [
    "## ```@classmethod and @staticmethod```\n",
    "[Resource:](https://www.makeuseof.com/tag/python-instance-static-class-methods/)\n",
    "\n",
    "1. `@classmethod` - can be used without intializing the class, 'cls' is used instead of `self`,cls is used to instanciated the class also\n",
    "\n",
    "2. `@staticmethod' -  "
   ]
  },
  {
   "cell_type": "code",
   "execution_count": 46,
   "metadata": {},
   "outputs": [
    {
     "name": "stdout",
     "output_type": "stream",
     "text": [
      "Sum is: 8\n",
      "10\n",
      "Sum is: 11\n"
     ]
    }
   ],
   "source": [
    "class PlayerCharacter_2:\n",
    "    is_member  =True # Class Object Attribute - should be always static \n",
    "    def __init__(self,name='Anonymous',age=0): # Defaul variables if values are not passed\n",
    "        #if self.is_member:\n",
    "        if age > 16: # checking if passed age is greater than 20\n",
    "            self.name = 'Mr. '+name # Attribute\n",
    "            self.age= age #Getting Intialized\n",
    "        else:\n",
    "            self.age= 15 \n",
    "            self.name = 'Master. '+name\n",
    "    # self -> refer to current object  \n",
    "    # self.name -> Attributr refrence to that object\n",
    "    @classmethod\n",
    "    def add_things(cls,a,b):\n",
    "        print(f\"Sum is: {a+b}\")\n",
    "\n",
    "player_4 = PlayerCharacter_2('T-cold',45)\n",
    "player_4.add_things(4,4)\n",
    "\n",
    "PlayerCharacter_2.add_things(5,6)"
   ]
  },
  {
   "cell_type": "code",
   "execution_count": 49,
   "metadata": {},
   "outputs": [
    {
     "name": "stdout",
     "output_type": "stream",
     "text": [
      "Sum is: 8\n",
      "45 T-cold\n",
      "80\n",
      "Sum is: 11\n",
      "Sum is: 11\n",
      "11 Anonymous\n",
      "11\n"
     ]
    }
   ],
   "source": [
    "class PlayerCharacter_2:\n",
    "    is_member  =True # Class Object Attribute - should be always static \n",
    "    def __init__(self,name='Anonymous',age=0): # Defaul variables if values are not passed\n",
    "            self.name =name\n",
    "            self.age= age #Getting Intialized\n",
    "        \n",
    "    @classmethod #-> has ablity to intialize Class Atribubutes \n",
    "    def add_things(cls,a,b):\n",
    "        print(f\"Sum is: {a+b}\")\n",
    "        return cls(name='Anonymous',age=a+b )\n",
    "\n",
    "    @staticmethod # just a static method that can be called without caring about class \n",
    "    def add_things_2(a,b):\n",
    "        return (a+b)\n",
    "\n",
    "player_4 = PlayerCharacter_2('T-cold',45)\n",
    "player_4.add_things(4,4)\n",
    "print(player_4.age,player_4.name) \n",
    "print(player_4.add_things_2(55,25))\n",
    "\n",
    "print(PlayerCharacter_2.add_things(5,6).age,PlayerCharacter_2.add_things(5,6).name)\n",
    "print(PlayerCharacter_2.add_things_2(5,6))"
   ]
  },
  {
   "cell_type": "markdown",
   "metadata": {},
   "source": [
    "# **4 Pillars of OOPS **\n",
    "1. Data Encapsulation\n",
    "2. Abstraction\n",
    "3. inheritance\n",
    "     "
   ]
  },
  {
   "cell_type": "markdown",
   "metadata": {},
   "source": [
    "## Data Encapsulation:\n",
    "> It defines how well your data is structured \n",
    "Scope of a Function inside a classs is a good example where it can be accessed by that class object but not by anyother class object unless it is inherited.\n",
    "\n",
    "i.e we have encapsulated in the class scope\n",
    "\n",
    "Datatypes such as `str`, `int` have a global scope hence they can be accesed by all of our programs."
   ]
  },
  {
   "cell_type": "code",
   "execution_count": null,
   "metadata": {},
   "outputs": [],
   "source": [
    "class PlayerCharacter:\n",
    "    \n",
    "    def __init__(self,name,age): # Dunder Method or Constructor  expecting 2 parameters\n",
    "        self.name = name\n",
    "        self.age= age #default\n",
    "    \n",
    "    # self -> refer to current object  \n",
    "    # self.name -> Attributr refrence to that object\n",
    "\n",
    "    def run(self):\n",
    "        print(\"run\")\n",
    "\n",
    "player_1 = PlayerCharacter('Silver',age=None) # give name as argument to intialize it. \n",
    "\n",
    "print(player_1) # Stored as object @ some memory location\n",
    "player_1.run() # method calling / initializing\n",
    "print(player_1.name) # calling initialized variable\n",
    "print(player_1.age) # calling initialized variable\n",
    "\n",
    "\n",
    "\n",
    "player_2 = PlayerCharacter('Tom',age=44)\n",
    "print(player_2)  # Stored as object @ some memory location\n",
    "print(player_2.name)\n",
    "print(player_2.age) # calling initialized variable\n",
    "\n",
    "\n",
    "# player_3.run() ## won't work as the data is encapsulated in PlayerCharacter unless player_3 is intialized as PlayerCharacter's object"
   ]
  },
  {
   "cell_type": "markdown",
   "metadata": {},
   "source": [
    "## Abstraction:\n",
    "> Hiding unnecessacry data or critical fuctionality from user \n",
    "\n",
    "a good example is when we call the class we can only have the returned value or printed value the main implementation is hidden from the user unless he goes and checks for it\n",
    "\n",
    "methods such as `count`,`len` are good exaples"
   ]
  },
  {
   "cell_type": "code",
   "execution_count": 2,
   "metadata": {},
   "outputs": [
    {
     "name": "stdout",
     "output_type": "stream",
     "text": [
      "<__main__.PlayerCharacter object at 0x000001B52B0EB490>\n",
      "run\n",
      "Silver\n",
      "None\n",
      "<__main__.PlayerCharacter object at 0x000001B52B687FD0>\n",
      "Tom\n",
      "44\n",
      "5\n",
      "8\n"
     ]
    }
   ],
   "source": [
    "print((1,2,3,4,5,4,4,4,4).count(4)) # the implementation of count is hidden from the user\n",
    "print(len(\"Hello!!!\"))"
   ]
  },
  {
   "cell_type": "markdown",
   "metadata": {},
   "source": [
    "> Note: the abstracted things can also be modified be careful while working!!"
   ]
  },
  {
   "cell_type": "code",
   "execution_count": 9,
   "metadata": {},
   "outputs": [
    {
     "name": "stdout",
     "output_type": "stream",
     "text": [
      "<__main__.PlayerCharacter object at 0x000001B52DFD4760>\n",
      "run\n",
      "Silver\n",
      "None\n",
      "<bound method PlayerCharacter.speak of <__main__.PlayerCharacter object at 0x000001B52DFD4760>>\n",
      "Silver speaks out Loudly\n",
      "None\n",
      "<__main__.PlayerCharacter object at 0x000001B52B275090>\n",
      "Tom\n",
      "44\n",
      "Holly\n",
      "Hello\n"
     ]
    }
   ],
   "source": [
    "class PlayerCharacter:\n",
    "    \n",
    "    def __init__(self,name,age): \n",
    "        self.name = name\n",
    "        self.age= age   \n",
    "    \n",
    "    def speak(self):\n",
    "        print(f\"{self.name} speaks out Loudly\")\n",
    "\n",
    "    def run(self):\n",
    "        print(\"run\")\n",
    "\n",
    "player_1 = PlayerCharacter('Silver',age=None) \n",
    "\n",
    "print(player_1) \n",
    "player_1.run() \n",
    "print(player_1.name) \n",
    "print(player_1.age) \n",
    "print(player_1.speak) # returning the function\n",
    "print(player_1.speak())\n",
    "\n",
    "\n",
    "player_2 = PlayerCharacter('Tom',age=44)\n",
    "print(player_2)  \n",
    "print(player_2.name)\n",
    "print(player_2.age) \n",
    "player_2.name ='Holly'\n",
    "player_2.speak='Hello'\n",
    "print(player_2.name) # gets Overriden\n",
    "print(player_2.speak) # gets overriden"
   ]
  },
  {
   "cell_type": "markdown",
   "metadata": {},
   "source": [
    "**📝Note:** \n",
    "> In Python generally speaking we don't have a Privacy for objects \n",
    "```python\n",
    "class PlayerCharacter:\n",
    "    \n",
    "    def __init__(self,name,age): \n",
    "        self._name = name # a developer practise to make it look like private variables to avoid overriding from the user\n",
    "        self._age= age \n",
    "```\n",
    "If you see a `_` make sure to think itas a private and ir should not be modified"
   ]
  },
  {
   "cell_type": "code",
   "execution_count": 17,
   "metadata": {},
   "outputs": [
    {
     "name": "stdout",
     "output_type": "stream",
     "text": [
      "<__main__.PlayerCharacter object at 0x000001B52E23CA30>\n",
      "run\n",
      "Silver\n",
      "None\n",
      "Silver speaks out Loudly\n",
      "None\n",
      "<__main__.PlayerCharacter object at 0x000001B52E23D090>\n",
      "Tom\n",
      "44\n",
      "Hello\n"
     ]
    }
   ],
   "source": [
    "class PlayerCharacter:\n",
    "    \n",
    "    def __init__(self,name,age): \n",
    "        self._name = name\n",
    "        self._age= age   \n",
    "    \n",
    "    def speak(self):\n",
    "        print(f\"{self._name} speaks out Loudly\")\n",
    "\n",
    "    def run(self):\n",
    "        print(\"run\")\n",
    "\n",
    "player_1 = PlayerCharacter('Silver',age=None) \n",
    "\n",
    "print(player_1) \n",
    "player_1.run() \n",
    "print(player_1._name) \n",
    "print(player_1._age) \n",
    "print(player_1.speak())\n",
    "\n",
    "\n",
    "player_2 = PlayerCharacter('Tom',age=44)\n",
    "print(player_2._name)\n",
    "print(player_2._age) \n",
    "\n",
    "player_2.speak='Hello' # as rhisis no longer a metthod  it will work\n",
    "print(player_2.speak) # gets overriden"
   ]
  },
  {
   "cell_type": "markdown",
   "metadata": {},
   "source": [
    "## Inheritance\n",
    "Helps us to inherit / override the Behaviours of an exisiting class "
   ]
  },
  {
   "cell_type": "code",
   "execution_count": 31,
   "metadata": {},
   "outputs": [
    {
     "name": "stdout",
     "output_type": "stream",
     "text": [
      "Merlin\n",
      "Logged IN!!!            \n",
      " Welcome to The Game \n",
      "Magic:500, HP: 250, Stamina:200\n",
      "Unleashing the Unbound Fire!!!🔥🎆\n",
      "Robin\n",
      "Logged IN!!!            \n",
      " Welcome to The Game \n",
      "Magic:150, HP: 250, Stamina:450\n",
      "Released True Strike!!!🎯\n"
     ]
    }
   ],
   "source": [
    "class User:\n",
    "    # __init__ can be optional if there are no variables present\n",
    "    def sign_in(self):\n",
    "        print(f\"Logged IN!!!\\\n",
    "            \\n Welcome to The Game \")\n",
    "\n",
    "class Wizard(User):   # We use it to pass the Parent Class\n",
    "    def __init__(self,name,special_attack='Regenerate') -> None:\n",
    "        self.name = name\n",
    "        self.special_attack =special_attack\n",
    "\n",
    "    def abilites(self):\n",
    "        print(\"Magic:500, HP: 250, Stamina:200\")\n",
    "    \n",
    "    def attack(self):\n",
    "        print(f\"Unleashing the {self.special_attack}!!!🔥🎆\")\n",
    "\n",
    "class Archer(User):\n",
    "    def __init__(self,name,special_attack='Wall of Arrows') -> None:\n",
    "        self.name = name\n",
    "        self.special_attack =special_attack\n",
    "\n",
    "    def abilites(self):\n",
    "        print(\"Magic:150, HP: 250, Stamina:450\")\n",
    "    \n",
    "    def attack(self):\n",
    "        print(f\"Released {self.special_attack}!!!🎯\")\n",
    "\n",
    "merlin = Wizard(name='Merlin',special_attack='Unbound Fire')\n",
    "print(f\"{merlin.name}\")\n",
    "merlin.sign_in()\n",
    "merlin.abilites()\n",
    "merlin.attack()\n",
    "\n",
    "merlin = Archer(name='Robin',special_attack='True Strike')\n",
    "print(f\"{merlin.name}\")\n",
    "merlin.sign_in()\n",
    "merlin.abilites()\n",
    "merlin.attack()"
   ]
  },
  {
   "cell_type": "code",
   "execution_count": 36,
   "metadata": {},
   "outputs": [
    {
     "name": "stdout",
     "output_type": "stream",
     "text": [
      "Merlin\n",
      "Logged IN!!!            \n",
      " Welcome to The Game \n",
      "Magic:500, HP: 250, Stamina:200\n",
      "Unleashing the Unbound Fire!!!🔥🎆\n",
      "Merlin\n",
      "Logged IN!!!            \n",
      " Welcome to The Game \n",
      "Magic:150, HP: 250, Stamina:450\n",
      "Released True Strike!!!🎯\n",
      "True\n",
      "True\n",
      "True\n",
      "True\n"
     ]
    }
   ],
   "source": [
    "class User:\n",
    "    # __init__ can be optional if there are no variables present\n",
    "    def sign_in(self):\n",
    "        print(f\"Logged IN!!!\\\n",
    "            \\n Welcome to The Game \")\n",
    "  \n",
    "    def attack(self):\n",
    "        print(f\"Nothing More !!!\")\n",
    "\n",
    "\n",
    "class Wizard(User):   # We use it to pass the Parent Class\n",
    "    def __init__(self,name,special_attack='Regenerate') -> None:\n",
    "        self.name = name\n",
    "        self.special_attack =special_attack\n",
    "\n",
    "    def abilites(self):\n",
    "        print(\"Magic:500, HP: 250, Stamina:200\")\n",
    "    \n",
    "    def attack(self):\n",
    "        print(f\"Unleashing the {self.special_attack}!!!🔥🎆\")\n",
    "\n",
    "class Archer(User):\n",
    "    def __init__(self,name,special_attack='Wall of Arrows') -> None:\n",
    "        self.name = name\n",
    "        self.special_attack =special_attack\n",
    "\n",
    "    def abilites(self):\n",
    "        print(\"Magic:150, HP: 250, Stamina:450\")\n",
    "    \n",
    "    def attack(self):\n",
    "        print(f\"Released {self.special_attack}!!!🎯\")\n",
    "\n",
    "merlin = Wizard(name='Merlin',special_attack='Unbound Fire')\n",
    "print(f\"{merlin.name}\")\n",
    "merlin.sign_in()\n",
    "merlin.abilites()\n",
    "merlin.attack()\n",
    "\n",
    "robin = Archer(name='Robin',special_attack='True Strike')\n",
    "print(f\"{merlin.name}\")\n",
    "robin.sign_in()\n",
    "robin.abilites()\n",
    "robin.attack()\n",
    "\n",
    "print(isinstance(merlin,Wizard))\n",
    "print(isinstance(merlin,User))\n",
    "\n",
    "print(isinstance(robin,Archer))\n",
    "print(isinstance(robin,User))"
   ]
  },
  {
   "cell_type": "markdown",
   "metadata": {},
   "source": [
    "**📝 Note:**\n",
    "> All Custom classes are sub class of `Object` class\n",
    "\n",
    "hence automatic or dunder methods of Object class are available for us to dabble with"
   ]
  },
  {
   "cell_type": "markdown",
   "metadata": {},
   "source": [
    "##PolyMorphism\n",
    "Same method Name in both Parent and Child can be overriden and "
   ]
  },
  {
   "cell_type": "code",
   "execution_count": 37,
   "metadata": {},
   "outputs": [
    {
     "name": "stdout",
     "output_type": "stream",
     "text": [
      "Merlin\n",
      "Logged IN!!!            \n",
      " Welcome to The Game \n",
      "Magic:500, HP: 250, Stamina:200\n",
      "Nothing More !!!\n",
      "Unleashing the Unbound Fire!!!🔥🎆\n",
      "Merlin\n",
      "Logged IN!!!            \n",
      " Welcome to The Game \n",
      "Magic:150, HP: 250, Stamina:450\n",
      "Released True Strike!!!🎯\n",
      "True\n",
      "True\n",
      "True\n",
      "True\n"
     ]
    }
   ],
   "source": [
    "class User:\n",
    "    # __init__ can be optional if there are no variables present\n",
    "    def sign_in(self):\n",
    "        print(f\"Logged IN!!!\\\n",
    "            \\n Welcome to The Game \")\n",
    "  \n",
    "    def attack(self):\n",
    "        print(f\"Nothing More !!!\")\n",
    "\n",
    "\n",
    "class Wizard(User):   # We use it to pass the Parent Class\n",
    "    def __init__(self,name,special_attack='Regenerate') -> None:\n",
    "        self.name = name\n",
    "        self.special_attack =special_attack\n",
    "\n",
    "    def abilites(self):\n",
    "        print(\"Magic:500, HP: 250, Stamina:200\")\n",
    "    \n",
    "    def attack(self):\n",
    "        User.attack(self)\n",
    "        print(f\"Unleashing the {self.special_attack}!!!🔥🎆\")\n",
    "\n",
    "class Archer(User):\n",
    "    def __init__(self,name,special_attack='Wall of Arrows') -> None:\n",
    "        self.name = name\n",
    "        self.special_attack =special_attack\n",
    "\n",
    "    def abilites(self):\n",
    "        print(\"Magic:150, HP: 250, Stamina:450\")\n",
    "    \n",
    "    def attack(self):\n",
    "        print(f\"Released {self.special_attack}!!!🎯\")\n",
    "\n",
    "merlin = Wizard(name='Merlin',special_attack='Unbound Fire')\n",
    "print(f\"{merlin.name}\")\n",
    "merlin.sign_in()\n",
    "merlin.abilites()\n",
    "merlin.attack()\n",
    "\n",
    "robin = Archer(name='Robin',special_attack='True Strike')\n",
    "print(f\"{merlin.name}\")\n",
    "robin.sign_in()\n",
    "robin.abilites()\n",
    "robin.attack()\n",
    "\n",
    "print(isinstance(merlin,Wizard))\n",
    "print(isinstance(merlin,User))\n",
    "\n",
    "print(isinstance(robin,Archer))\n",
    "print(isinstance(robin,User))"
   ]
  },
  {
   "cell_type": "markdown",
   "metadata": {},
   "source": [
    "## `super()` Keyword - Used to call Parent Class attribues /init methods"
   ]
  },
  {
   "cell_type": "code",
   "execution_count": 46,
   "metadata": {},
   "outputs": [
    {
     "name": "stdout",
     "output_type": "stream",
     "text": [
      "Merlin\n",
      "merlin@hollow.com\n",
      "True\n",
      "Nothing More !!!\n",
      "Unleashing the Unbound Fire!!!🔥🎆\n",
      "True\n",
      "******************************************************************************************\n",
      "Robin\n",
      "robin@strider.com\n"
     ]
    }
   ],
   "source": [
    "class User:\n",
    "    # __init__ can be optional if there are no variables present\n",
    "    def __init__(self,email):\n",
    "        self.email = email\n",
    "    \n",
    "    def sign_in(self):\n",
    "        print(f\"Logged IN!!!\\\n",
    "            \\n Welcome to The Game \")\n",
    "  \n",
    "    def attack(self):\n",
    "        print(f\"Nothing More !!!\")\n",
    "    \n",
    "    is_lazy= True\n",
    "\n",
    "class Wizard(User):   # We use it to pass the Parent Class\n",
    "    def __init__(self,email,name,special_attack='Regenerate') -> None:\n",
    "        self.name = name\n",
    "        self.special_attack =special_attack\n",
    "        super().__init__(email) # you can use `super()` to call Parent USer\n",
    "\n",
    "    def abilites(self):\n",
    "        print(\"Magic:500, HP: 250, Stamina:200\")\n",
    "    \n",
    "    def attack(self):\n",
    "        User.attack(self)\n",
    "        print(f\"Unleashing the {self.special_attack}!!!🔥🎆\")\n",
    "        print(super().is_lazy)\n",
    "\n",
    "class Archer(User):\n",
    "    def __init__(self,email,name,special_attack='Wall of Arrows') -> None:\n",
    "        self.name = name\n",
    "        self.special_attack =special_attack\n",
    "        User.__init__(self,email) # Alternative to Super keyword we can use Classname but never forget self keyword\n",
    "\n",
    "    def abilites(self):\n",
    "        print(\"Magic:150, HP: 250, Stamina:450\")\n",
    "    \n",
    "    def attack(self):\n",
    "        print(f\"Released {self.special_attack}!!!🎯\")\n",
    "\n",
    "merlin = Wizard(name='Merlin',special_attack='Unbound Fire',email ='merlin@hollow.com')\n",
    "print(f\"{merlin.name}\")\n",
    "print(merlin.email)\n",
    "merlin.attack()\n",
    "print(\"******\"*15)\n",
    "\n",
    "robin = Archer(name='Robin',special_attack='True Strike',email='robin@strider.com')\n",
    "print(f\"{robin.name}\")\n",
    "print(robin.email)\n"
   ]
  },
  {
   "cell_type": "markdown",
   "metadata": {},
   "source": [
    "## Introspection of Object\n",
    "\n",
    "```\n",
    "dir() - gives all of the methods,attributes of the object\n",
    "\n",
    "help() - gives a detailed description of all classes / Parent class for the object\n",
    "\n",
    "\n",
    "```"
   ]
  },
  {
   "cell_type": "code",
   "execution_count": 50,
   "metadata": {},
   "outputs": [
    {
     "name": "stdout",
     "output_type": "stream",
     "text": [
      "['__class__', '__delattr__', '__dict__', '__dir__', '__doc__', '__eq__', '__format__', '__ge__', '__getattribute__', '__gt__', '__hash__', '__init__', '__init_subclass__', '__le__', '__lt__', '__module__', '__ne__', '__new__', '__reduce__', '__reduce_ex__', '__repr__', '__setattr__', '__sizeof__', '__str__', '__subclasshook__', '__weakref__', 'abilites', 'attack', 'email', 'is_lazy', 'name', 'sign_in', 'special_attack']\n",
      "Help on Archer in module __main__ object:\n",
      "\n",
      "class Archer(User)\n",
      " |  Archer(email, name, special_attack='Wall of Arrows') -> None\n",
      " |  \n",
      " |  Method resolution order:\n",
      " |      Archer\n",
      " |      User\n",
      " |      builtins.object\n",
      " |  \n",
      " |  Methods defined here:\n",
      " |  \n",
      " |  __init__(self, email, name, special_attack='Wall of Arrows') -> None\n",
      " |      Initialize self.  See help(type(self)) for accurate signature.\n",
      " |  \n",
      " |  abilites(self)\n",
      " |  \n",
      " |  attack(self)\n",
      " |  \n",
      " |  ----------------------------------------------------------------------\n",
      " |  Methods inherited from User:\n",
      " |  \n",
      " |  sign_in(self)\n",
      " |  \n",
      " |  ----------------------------------------------------------------------\n",
      " |  Data descriptors inherited from User:\n",
      " |  \n",
      " |  __dict__\n",
      " |      dictionary for instance variables (if defined)\n",
      " |  \n",
      " |  __weakref__\n",
      " |      list of weak references to the object (if defined)\n",
      " |  \n",
      " |  ----------------------------------------------------------------------\n",
      " |  Data and other attributes inherited from User:\n",
      " |  \n",
      " |  is_lazy = True\n",
      "\n",
      "None\n",
      "['__call__', '__class__', '__delattr__', '__dir__', '__doc__', '__eq__', '__format__', '__ge__', '__getattribute__', '__gt__', '__hash__', '__init__', '__init_subclass__', '__le__', '__lt__', '__name__', '__ne__', '__new__', '__objclass__', '__qualname__', '__reduce__', '__reduce_ex__', '__repr__', '__self__', '__setattr__', '__sizeof__', '__str__', '__subclasshook__', '__text_signature__']\n"
     ]
    }
   ],
   "source": [
    "class User:\n",
    "    # __init__ can be optional if there are no variables present\n",
    "    def __init__(self,email):\n",
    "        self.email = email\n",
    "    \n",
    "    def sign_in(self):\n",
    "        print(f\"Logged IN!!!\\\n",
    "            \\n Welcome to The Game \")\n",
    "  \n",
    "    def attack(self):\n",
    "        print(f\"Nothing More !!!\")\n",
    "    \n",
    "    is_lazy= True\n",
    "\n",
    "class Wizard(User):   # We use it to pass the Parent Class\n",
    "    def __init__(self,email,name,special_attack='Regenerate') -> None:\n",
    "        self.name = name\n",
    "        self.special_attack =special_attack\n",
    "        super().__init__(email) # you can use `super()` to call Parent USer\n",
    "\n",
    "    def abilites(self):\n",
    "        print(\"Magic:500, HP: 250, Stamina:200\")\n",
    "    \n",
    "    def attack(self):\n",
    "        User.attack(self)\n",
    "        print(f\"Unleashing the {self.special_attack}!!!🔥🎆\")\n",
    "        print(super().is_lazy)\n",
    "\n",
    "class Archer(User):\n",
    "    def __init__(self,email,name,special_attack='Wall of Arrows') -> None:\n",
    "        self.name = name\n",
    "        self.special_attack =special_attack\n",
    "        User.__init__(self,email) # Alternative to Super keyword we can use Classname but never forget self keyword\n",
    "\n",
    "    def abilites(self):\n",
    "        print(\"Magic:150, HP: 250, Stamina:450\")\n",
    "    \n",
    "    def attack(self):\n",
    "        print(f\"Released {self.special_attack}!!!🎯\")\n",
    "\n",
    "merlin = Wizard(name='Merlin',special_attack='Unbound Fire',email ='merlin@hollow.com')\n",
    "\n",
    "robin = Archer(name='Robin',special_attack='True Strike',email='robin@strider.com')\n",
    "\n",
    "print(dir(merlin))\n",
    "print(help(robin))\n",
    "\n"
   ]
  },
  {
   "cell_type": "markdown",
   "metadata": {},
   "source": [
    "## [Dunder Methods](https://www.pythonlikeyoumeanit.com/Module4_OOP/Special_Methods.html) are special built in functions that can be cusomised and be used on a class.\n",
    "\n",
    "```\n",
    "__init__()\n",
    "__len__()\n",
    "__del__()\n",
    "__call__() #-> can be used to call an object\n",
    "```"
   ]
  },
  {
   "cell_type": "code",
   "execution_count": 62,
   "metadata": {},
   "outputs": [
    {
     "name": "stdout",
     "output_type": "stream",
     "text": [
      "Hello There Red\n",
      "Hello There Red\n",
      "lol\n",
      "Leo\n"
     ]
    }
   ],
   "source": [
    "class Toy:\n",
    "\n",
    "    def __init__(self,color,age) -> None:\n",
    "       self.color = color.title()\n",
    "       self.age = age\n",
    "       self.my_dict  = {'Name':\"Leo\",\n",
    "                      'has_pets':False\n",
    "                     }\n",
    "    def __str__(self) -> str:\n",
    "        return f\"Hello There {self.color}\"\n",
    "    \n",
    "    def __call__(self):\n",
    "        return f\"lol\"\n",
    "    \n",
    "    def __getitem__(self,i):\n",
    "        return self.my_dict[i]\n",
    "\n",
    "action_figure = Toy('red',22)\n",
    "print(action_figure.__str__())\n",
    "print(str(action_figure))\n",
    "print(action_figure())\n",
    "print(action_figure['Name'])"
   ]
  },
  {
   "cell_type": "markdown",
   "metadata": {},
   "source": [
    "##  Multiple Inheritance\n",
    "A sub Class having 2 or more Parent Classes where we can inherit multiple methods or attributes"
   ]
  },
  {
   "cell_type": "code",
   "execution_count": 10,
   "metadata": {},
   "outputs": [
    {
     "name": "stdout",
     "output_type": "stream",
     "text": [
      "Fus Roh Dah\n"
     ]
    }
   ],
   "source": [
    "class User:\n",
    "    # __init__ can be optional if there are no variables present\n",
    "    def sign_in(self):\n",
    "        print(f\"Logged IN!!!\\\n",
    "            \\n Welcome to The Game \")\n",
    "  \n",
    "    def attack(self):\n",
    "        print(f\"Nothing More !!!\")\n",
    "    \n",
    "\n",
    "class Wizard(User):   # We use it to pass the Parent Class\n",
    "    def __init__(self,name,power) -> None:\n",
    "        self.name = name\n",
    "        self.power =power\n",
    "\n",
    "    def abilites(self):\n",
    "        print(\"Magic:500, HP: 250, Stamina:200\")\n",
    "    \n",
    "    def attack(self):\n",
    "        User.attack(self)\n",
    "        print(f\"Unleashing the {self.power}!!!🔥🎆\")\n",
    "       \n",
    "\n",
    "class Archer(User):\n",
    "    def __init__(self,name,arrows) -> None:\n",
    "        self.name = name\n",
    "        self.arrows =arrows\n",
    "\n",
    "    def abilites(self):\n",
    "        print(\"Magic:150, HP: 250, Stamina:450\")\n",
    "    \n",
    "    def attack(self):\n",
    "        print(f\"Released {self.power}!!!🎯\")\n",
    "    \n",
    "    def shout(self):\n",
    "        print(f\"Fus Roh Dah\")\n",
    "\n",
    "# merlin = Wizard(name='Merlin',power='Unbound Fire',email ='merlin@hollow.com')\n",
    "\n",
    "# robin = Archer(name='Robin',arrows=50,email='robin@strider.com')\n",
    "\n",
    "# print(merlin.power)\n",
    "# print(robin.arrows)\n",
    "\n",
    "class MagicalArcher(Wizard,Archer): # Multpile Classes\n",
    "    pass\n",
    "\n",
    "# dovahkin = MagicalArcher(\"Zola\",\"diffused arrow\",100) # throws error when we are accessing second class \n",
    "dovahkin = MagicalArcher(\"Zola\",\"diffused arrow\")\n",
    "dovahkin.shout()"
   ]
  },
  {
   "cell_type": "markdown",
   "metadata": {},
   "source": [
    "**📝Note:** \n",
    "> When Multiple classes are involved the attribtes from second class are little bit tricky to use as we can only access First Class attributes freely"
   ]
  },
  {
   "cell_type": "code",
   "execution_count": 18,
   "metadata": {},
   "outputs": [
    {
     "name": "stdout",
     "output_type": "stream",
     "text": [
      "Fus Roh Dah\n",
      "Released 50!!!🎯\n",
      "Nothing More !!!\n",
      "Unleashing the diffused arrow!!!🔥🎆\n",
      "Logged IN!!!            \n",
      " Welcome to The Game \n"
     ]
    }
   ],
   "source": [
    "class User:\n",
    "    # __init__ can be optional if there are no variables present\n",
    "    def sign_in(self):\n",
    "        print(f\"Logged IN!!!\\\n",
    "            \\n Welcome to The Game \")\n",
    "  \n",
    "    def attack(self):\n",
    "        print(f\"Nothing More !!!\")\n",
    "    \n",
    "\n",
    "class Wizard(User):   # We use it to pass the Parent Class\n",
    "    def __init__(self,name,power) -> None:\n",
    "        self.name = name\n",
    "        self.power =power\n",
    "\n",
    "    def abilites(self):\n",
    "        print(\"Magic:500, HP: 250, Stamina:200\")\n",
    "    \n",
    "    def attack(self):\n",
    "        User.attack(self)\n",
    "        print(f\"Unleashing the {self.power}!!!🔥🎆\")\n",
    "       \n",
    "\n",
    "class Archer(User):\n",
    "    def __init__(self,name,arrows) -> None:\n",
    "        self.name = name\n",
    "        self.arrows =arrows\n",
    "\n",
    "    def abilites(self):\n",
    "        print(\"Magic:150, HP: 250, Stamina:450\")\n",
    "    \n",
    "    def check_arrows(self):\n",
    "        print(f\"Checked  {self.arrows} Remaing inthe quiver 🧺\")\n",
    "    \n",
    "    def shout(self):\n",
    "        print(f\"Fus Roh Dah\")\n",
    "\n",
    "# merlin = Wizard(name='Merlin',power='Unbound Fire')\n",
    "\n",
    "# robin = Archer(name='Robin',arrows=50)\n",
    "\n",
    "# print(merlin.power)\n",
    "# print(robin.arrows)\n",
    "\n",
    "class MagicalArcher(Wizard,Archer): # Multpile Classes\n",
    "    \n",
    "    def __init__(self, name, power,arrows) -> None:\n",
    "        Archer.__init__(self,name, arrows) # don't use super()\n",
    "        Wizard.__init__(self,name,power) # use individual classes only\n",
    "\n",
    "# dovahkin = MagicalArcher(\"Zola\",\"diffused arrow\",100) # throws error when we are accessing second class \n",
    "dovahkin = MagicalArcher(\"Zola\",\"diffused arrow\",50)\n",
    "dovahkin.shout()\n",
    "dovahkin.check_arrows()\n",
    "dovahkin.attack()\n",
    "dovahkin.sign_in()"
   ]
  },
  {
   "cell_type": "markdown",
   "metadata": {},
   "source": [
    "**📝Note:**\n",
    "> When we are using Multiple Inheritance we should be carefull we should not use `super()` to initialize parent's `__init__()` method which by hte way refers to 1st Parent class to avoid it we generally use `Class_name.__init__(self,atr1,atr2)`"
   ]
  },
  {
   "cell_type": "markdown",
   "metadata": {},
   "source": [
    "## [MRO - Method Resolution Order](https://www.geeksforgeeks.org/method-resolution-order-in-python-inheritance/)\n",
    "Method Resolution Order(MRO) it denotes the way a programming language resolves a method or attribute. If it has Multiple Inheritance it helps in figuring out how the sub class uses the attributes/methods\n",
    "\n",
    "\n",
    "[Click here for more](http://www.srikanthtechnologies.com/blog/python/mro.aspx)"
   ]
  },
  {
   "cell_type": "code",
   "execution_count": 22,
   "metadata": {},
   "outputs": [
    {
     "name": "stdout",
     "output_type": "stream",
     "text": [
      " In class B\n"
     ]
    },
    {
     "data": {
      "text/plain": [
       "[__main__.D, __main__.B, __main__.C, __main__.A, object]"
      ]
     },
     "execution_count": 22,
     "metadata": {},
     "output_type": "execute_result"
    }
   ],
   "source": [
    "\n",
    "class A:\n",
    "    def rk(self):\n",
    "        print(\" In class A\")\n",
    "\n",
    "class B(A):\n",
    "    def rk(self):\n",
    "        print(\" In class B\")\n",
    "\n",
    "class C(A):\n",
    "    def rk(self):\n",
    "        print(\"In class C\")\n",
    "\n",
    "# classes ordering\n",
    "class D(B, C):\n",
    "    pass\n",
    "\n",
    "\n",
    "d = D()\n",
    "d.rk()\n",
    "D.mro() # Class_Name.mro() - > helps us to determine the method order"
   ]
  },
  {
   "cell_type": "code",
   "execution_count": 23,
   "metadata": {},
   "outputs": [
    {
     "name": "stdout",
     "output_type": "stream",
     "text": [
      "In class C\n"
     ]
    },
    {
     "data": {
      "text/plain": [
       "[__main__.D, __main__.B, __main__.C, __main__.A, object]"
      ]
     },
     "execution_count": 23,
     "metadata": {},
     "output_type": "execute_result"
    }
   ],
   "source": [
    "\n",
    "class A:\n",
    "    def rk(self):\n",
    "        print(\" In class A\")\n",
    "\n",
    "class B(A):\n",
    "    pass\n",
    "\n",
    "class C(A):\n",
    "    def rk(self):\n",
    "        print(\"In class C\")\n",
    "\n",
    "# classes ordering\n",
    "class D(B, C):\n",
    "    pass\n",
    "\n",
    "\n",
    "d = D()\n",
    "d.rk()\n",
    "D.mro() # Class_Name.mro() - > helps us to determine the method order"
   ]
  },
  {
   "cell_type": "code",
   "execution_count": 30,
   "metadata": {},
   "outputs": [
    {
     "name": "stdout",
     "output_type": "stream",
     "text": [
      " In class A\n"
     ]
    },
    {
     "data": {
      "text/plain": [
       "[__main__.D, __main__.B, __main__.C, __main__.A, object]"
      ]
     },
     "execution_count": 30,
     "metadata": {},
     "output_type": "execute_result"
    }
   ],
   "source": [
    "\n",
    "class A:\n",
    "    def rk(self):\n",
    "        print(\" In class A\")\n",
    "\n",
    "class B(A):\n",
    "    pass\n",
    "\n",
    "class C(A):\n",
    "    pass\n",
    "# classes ordering\n",
    "class D(B, C):\n",
    "    pass\n",
    "\n",
    "\n",
    "d = D()\n",
    "d.rk()\n",
    "D.mro() # Class_Name.mro() - > helps us to determine the method order\n"
   ]
  },
  {
   "cell_type": "code",
   "execution_count": 26,
   "metadata": {},
   "outputs": [],
   "source": [
    "\n",
    "# class A:\n",
    "#     pass\n",
    "\n",
    "# class B(A):\n",
    "#     pass\n",
    "\n",
    "# class C(A):\n",
    "#     pass\n",
    "# # classes ordering\n",
    "# class D(B, C):\n",
    "#     pass\n",
    "\n",
    "\n",
    "# d = D()\n",
    "# d.rk()\n",
    "# D.mro() # Class_Name.mro() - > helps us to determine the method order"
   ]
  },
  {
   "cell_type": "code",
   "execution_count": 32,
   "metadata": {},
   "outputs": [
    {
     "data": {
      "text/plain": [
       "(__main__.M,\n",
       " __main__.B,\n",
       " __main__.A,\n",
       " __main__.X,\n",
       " __main__.Y,\n",
       " __main__.Z,\n",
       " object)"
      ]
     },
     "execution_count": 32,
     "metadata": {},
     "output_type": "execute_result"
    }
   ],
   "source": [
    "class X: pass\n",
    "class Y: pass\n",
    "class Z: pass\n",
    "class A(X,Y): pass\n",
    "class B(Y,Z): pass\n",
    "class M(B,A,Z): pass\n",
    "# because of DFS depth First Search\n",
    "M.__mro__"
   ]
  },
  {
   "cell_type": "markdown",
   "metadata": {},
   "source": [
    "****\n",
    "## END of SECTION"
   ]
  }
 ],
 "metadata": {
  "kernelspec": {
   "display_name": "Python 3.10.0 64-bit",
   "language": "python",
   "name": "python3"
  },
  "language_info": {
   "codemirror_mode": {
    "name": "ipython",
    "version": 3
   },
   "file_extension": ".py",
   "mimetype": "text/x-python",
   "name": "python",
   "nbconvert_exporter": "python",
   "pygments_lexer": "ipython3",
   "version": "3.10.0"
  },
  "orig_nbformat": 4,
  "vscode": {
   "interpreter": {
    "hash": "49da7d21e02589e2de7cea34dc87605a984fd6b75be6cf7d8639436c3840c983"
   }
  }
 },
 "nbformat": 4,
 "nbformat_minor": 2
}
