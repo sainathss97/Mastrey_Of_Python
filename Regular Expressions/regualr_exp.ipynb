{
 "cells": [
  {
   "cell_type": "markdown",
   "metadata": {},
   "source": [
    "## **What are Reegular Expressions haow are they can be imported**\n",
    "A regular expression (shortened as regex or regexp; sometimes referred to as rational expression) is a sequence of characters that specifies a search pattern in text. Usually such patterns are used by string-searching algorithms for \"find\" or \"find and replace\" operations on strings, or for input validation. Regular expression techniques are developed in theoretical computer science and formal language theory.\n",
    "\n",
    "`import re`\n",
    "\n",
    "\n",
    "[resource for Regex](https://pynative.com/python/regex/)"
   ]
  },
  {
   "cell_type": "code",
   "execution_count": 1,
   "metadata": {},
   "outputs": [
    {
     "name": "stdout",
     "output_type": "stream",
     "text": [
      "True\n"
     ]
    }
   ],
   "source": [
    "string  = 'Search indside a text like this text please! this one'\n",
    "print('Search' in string)"
   ]
  },
  {
   "cell_type": "markdown",
   "metadata": {},
   "source": [
    "## **How to search patterns?**\n",
    "`re.search(pattern, string, flags=0)`\n",
    "the output\n",
    "`<re.Match object; span=(26, 30), match='this'>` is a match object "
   ]
  },
  {
   "cell_type": "code",
   "execution_count": 2,
   "metadata": {},
   "outputs": [
    {
     "data": {
      "text/plain": [
       "<re.Match object; span=(27, 31), match='this'>"
      ]
     },
     "execution_count": 2,
     "metadata": {},
     "output_type": "execute_result"
    }
   ],
   "source": [
    "import re\n",
    "re.search('this',string)"
   ]
  },
  {
   "cell_type": "code",
   "execution_count": 3,
   "metadata": {},
   "outputs": [
    {
     "name": "stdout",
     "output_type": "stream",
     "text": [
      "(27, 31)\n",
      "this\n",
      "27\n"
     ]
    }
   ],
   "source": [
    "import re\n",
    "a = re.search('this',string)\n",
    "print(a.span())\n",
    "print(a.group())\n",
    "print(a.start())\n"
   ]
  },
  {
   "cell_type": "markdown",
   "metadata": {},
   "source": [
    "## How patterns are used in REGEX. `re.compile()` ?\n",
    "Python’s `re.compile()` method is used to compile a regular expression pattern provided as a string into a regex pattern object(`re.Pattern`). Later we can use this pattern object to search for a match inside different target strings using regex methods such as a `re.match()` or `re.search()`.\n"
   ]
  },
  {
   "cell_type": "code",
   "execution_count": 4,
   "metadata": {},
   "outputs": [
    {
     "name": "stdout",
     "output_type": "stream",
     "text": [
      "['inside', 'inside']\n",
      "<re.Match object; span=(20, 26), match='inside'>\n",
      "inside (20, 26)\n",
      "None\n",
      "None\n"
     ]
    }
   ],
   "source": [
    "import re\n",
    "new_str = \"Search me with this inside inside  of the text\"\n",
    "\n",
    "pattern = re.compile('inside')\n",
    "\n",
    "print(pattern.findall(new_str))\n",
    "a = pattern.search(new_str)\n",
    "print(a)\n",
    "print(a.group(),a.span())\n",
    "\n",
    "b = pattern.fullmatch(new_str)\n",
    "print(b)\n",
    "\n",
    "c = pattern.match(new_str)\n",
    "print(c)"
   ]
  },
  {
   "cell_type": "markdown",
   "metadata": {},
   "source": [
    "## Advanced patterns with regular expressions\n",
    "[resource: Regex 101](https://regex101.com)\n",
    "[resource: Basic Regex](https://www.w3schools.com/python/python_regex.asp?...)"
   ]
  },
  {
   "cell_type": "code",
   "execution_count": 3,
   "metadata": {},
   "outputs": [
    {
     "name": "stdout",
     "output_type": "stream",
     "text": [
      "[('S', 'a')]\n",
      "<re.Match object; span=(0, 3), match='Sea'>\n",
      "Sea (0, 3)\n",
      "None\n",
      "<re.Match object; span=(0, 3), match='Sea'>\n"
     ]
    }
   ],
   "source": [
    "import re\n",
    "new_str = \"Search me with this inside inside  of the text\"\n",
    "\n",
    "pattern = re.compile(r\"(^[a-zA-z]).([a])\")\n",
    "\n",
    "print(pattern.findall(new_str))\n",
    "a = pattern.search(new_str)\n",
    "print(a)\n",
    "print(a.group(), a.span())\n",
    "\n",
    "b = pattern.fullmatch(new_str)\n",
    "print(b)\n",
    "\n",
    "c = pattern.match(new_str)\n",
    "print(c)\n"
   ]
  },
  {
   "cell_type": "code",
   "execution_count": 4,
   "metadata": {},
   "outputs": [
    {
     "name": "stdout",
     "output_type": "stream",
     "text": [
      "['Hello', 'World']\n"
     ]
    }
   ],
   "source": [
    "import re\n",
    "\n",
    "pattern = r\"([A-Za-z]+)\"\n",
    "string = '-----2344-Hello--World!'\n",
    "result = re.findall(pattern, string)\n",
    "print(result)\n"
   ]
  },
  {
   "cell_type": "markdown",
   "metadata": {},
   "source": [
    "## [Email  REGEX ](http://emailregex.com)\n",
    "  "
   ]
  },
  {
   "cell_type": "code",
   "execution_count": null,
   "metadata": {},
   "outputs": [],
   "source": []
  },
  {
   "cell_type": "code",
   "execution_count": null,
   "metadata": {},
   "outputs": [],
   "source": []
  },
  {
   "cell_type": "code",
   "execution_count": null,
   "metadata": {},
   "outputs": [],
   "source": []
  },
  {
   "cell_type": "code",
   "execution_count": null,
   "metadata": {},
   "outputs": [],
   "source": []
  },
  {
   "cell_type": "code",
   "execution_count": null,
   "metadata": {},
   "outputs": [],
   "source": []
  },
  {
   "cell_type": "code",
   "execution_count": null,
   "metadata": {},
   "outputs": [],
   "source": []
  }
 ],
 "metadata": {
  "kernelspec": {
   "display_name": "Python 3.10.0 ('venv': venv)",
   "language": "python",
   "name": "python3"
  },
  "language_info": {
   "codemirror_mode": {
    "name": "ipython",
    "version": 3
   },
   "file_extension": ".py",
   "mimetype": "text/x-python",
   "name": "python",
   "nbconvert_exporter": "python",
   "pygments_lexer": "ipython3",
   "version": "3.10.0"
  },
  "orig_nbformat": 4,
  "vscode": {
   "interpreter": {
    "hash": "bdc0c55278d73b6dcdbef145c0df72e78d01c6ef7357465105913c304106d4bb"
   }
  }
 },
 "nbformat": 4,
 "nbformat_minor": 2
}
